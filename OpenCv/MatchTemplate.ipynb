{
 "cells": [
  {
   "cell_type": "code",
   "execution_count": 16,
   "metadata": {},
   "outputs": [],
   "source": [
    "import cv2"
   ]
  },
  {
   "cell_type": "code",
   "execution_count": 17,
   "metadata": {},
   "outputs": [],
   "source": [
    "methods = [\"cv2.TM_CCOEFF\",\"cv2.TM_CCOEFF_NORMED\",\"cv2.TM_CCORR\",\"cv2.TM_CCORR_NORMED\",\"cv2.TM_SQDIFF\",\"cv2.TM_SQDIFF_NORMED\"]\n",
    "#NOTE - match template methods"
   ]
  },
  {
   "cell_type": "code",
   "execution_count": 18,
   "metadata": {},
   "outputs": [],
   "source": [
    "img = cv2.imread(\"R.jpg\")\n",
    "templ = cv2.imread(\"R.png\")\n",
    "#NOTE - reading images"
   ]
  },
  {
   "cell_type": "code",
   "execution_count": 19,
   "metadata": {},
   "outputs": [],
   "source": [
    "images = []\n",
    "images.append((img,templ))\n",
    "#NOTE - burada daha çok resim eklenip hepsi karşılaştırılabilir ancak daha önce bu uygulamayı yaptığım için sadece kurs için ekledim"
   ]
  },
  {
   "cell_type": "code",
   "execution_count": 24,
   "metadata": {},
   "outputs": [
    {
     "name": "stdout",
     "output_type": "stream",
     "text": [
      "\n",
      "Image:\n",
      "cv2.TM_CCOEFF - 1803475712.0\n",
      "cv2.TM_CCOEFF_NORMED - 0.9799245595932007\n",
      "cv2.TM_CCORR - 8417613824.0\n",
      "cv2.TM_CCORR_NORMED - 0.9949160814285278\n",
      "cv2.TM_SQDIFF - 4818655232.0\n",
      "cv2.TM_SQDIFF_NORMED - 1.0\n"
     ]
    }
   ],
   "source": [
    "for image,template in images:\n",
    "    print()\n",
    "    print(\"Image:\")\n",
    "    for meth in methods:\n",
    "        method = eval(meth)\n",
    "        result = cv2.matchTemplate(image,template,method)\n",
    "        min_val,max_val,min_loc,max_loc = cv2.minMaxLoc(result)\n",
    "        print(meth + \" - \" + str(max_val))\n",
    "#NOTE - resimlerin tüm methodlar için çıktısı"
   ]
  }
 ],
 "metadata": {
  "kernelspec": {
   "display_name": "Python 3",
   "language": "python",
   "name": "python3"
  },
  "language_info": {
   "codemirror_mode": {
    "name": "ipython",
    "version": 3
   },
   "file_extension": ".py",
   "mimetype": "text/x-python",
   "name": "python",
   "nbconvert_exporter": "python",
   "pygments_lexer": "ipython3",
   "version": "3.9.13"
  },
  "orig_nbformat": 4
 },
 "nbformat": 4,
 "nbformat_minor": 2
}

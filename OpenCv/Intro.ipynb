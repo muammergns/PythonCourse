{
 "cells": [
  {
   "cell_type": "code",
   "execution_count": 1,
   "metadata": {},
   "outputs": [],
   "source": [
    "import cv2\n",
    "#NOTE - opencv import"
   ]
  },
  {
   "cell_type": "code",
   "execution_count": 2,
   "metadata": {},
   "outputs": [],
   "source": [
    "img = cv2.imread('R.jpg')\n",
    "#NOTE - resim değişken olarak alınır\n",
    "cv2.imshow(\"Title\", img)\n",
    "cv2.waitKey(0)\n",
    "cv2.destroyAllWindows()\n",
    "#NOTE - imshow fonksiyonu çalıştırılırken waitkey ve destroy olmazsa kilitleniyor"
   ]
  },
  {
   "cell_type": "code",
   "execution_count": 3,
   "metadata": {},
   "outputs": [],
   "source": [
    "width,height,channel = img.shape\n",
    "color = (255,255,255)\n",
    "img2 = cv2.line(img=img,pt1=(0,0),pt2=(height, width),color=color,thickness=3)\n",
    "#NOTE - resmin üzerine çizgi ve işaretler koyulabilir\n",
    "cv2.imshow(\"Title\", img2)\n",
    "cv2.waitKey(0)\n",
    "cv2.destroyAllWindows()"
   ]
  },
  {
   "cell_type": "code",
   "execution_count": 4,
   "metadata": {},
   "outputs": [],
   "source": [
    "imgGray = cv2.cvtColor(img, cv2.COLOR_BGR2GRAY)\n",
    "#NOTE - resmin rengini grileştirir\n",
    "cv2.imshow(\"Title\", imgGray)\n",
    "cv2.waitKey(0)\n",
    "cv2.destroyAllWindows()"
   ]
  },
  {
   "cell_type": "code",
   "execution_count": 5,
   "metadata": {},
   "outputs": [],
   "source": [
    "ksize = (9,9) #NOTE - sadece tek sayı alır\n",
    "imgBlur = cv2.GaussianBlur(img,ksize=ksize,sigmaX=5,borderType=cv2.BORDER_DEFAULT)\n",
    "#NOTE - resmi blurlaştırır\n",
    "cv2.imshow(\"Title\", imgBlur)\n",
    "cv2.waitKey(0)\n",
    "cv2.destroyAllWindows()"
   ]
  },
  {
   "cell_type": "code",
   "execution_count": 6,
   "metadata": {},
   "outputs": [],
   "source": [
    "thr1 = 125\n",
    "thr2 = 175\n",
    "#NOTE - threshold değerleri düştükçe daha fazla detay çizgisi alır\n",
    "imgCanny = cv2.Canny(img,threshold1=thr1,threshold2=thr2)\n",
    "#NOTE - resmin renk geçişlerini siyah beyaz çizgi olarak alır\n",
    "cv2.imshow(\"Title\", imgCanny)\n",
    "cv2.waitKey(0)\n",
    "cv2.destroyAllWindows()"
   ]
  },
  {
   "cell_type": "code",
   "execution_count": 7,
   "metadata": {},
   "outputs": [],
   "source": [
    "imgDilate = cv2.dilate(imgCanny,(7,7),iterations=3)\n",
    "#NOTE - görüntünün kenar geçişlerini kalınlaştırır\n",
    "cv2.imshow(\"Title\", imgDilate)\n",
    "cv2.waitKey(0)\n",
    "cv2.destroyAllWindows()"
   ]
  },
  {
   "cell_type": "code",
   "execution_count": 8,
   "metadata": {},
   "outputs": [],
   "source": [
    "(_,imgThr) = cv2.threshold(imgGray,200,255,cv2.THRESH_BINARY)\n",
    "#NOTE - görüntü eşikleme için kullanılır\n",
    "# pikselin değeri eşik değerinin altında kalırla minimuma\n",
    "# eşik değerinin üstündeyse maximuma ayarlar\n",
    "# görüntüde istenen bölgenin alınmasını sağlar\n",
    "# görüntü işlemede istenmeyen bölgelerin silinmesinde kullanılır\n",
    "cv2.imshow(\"Title\", imgThr)\n",
    "cv2.waitKey(0)\n",
    "cv2.destroyAllWindows()"
   ]
  },
  {
   "cell_type": "code",
   "execution_count": 11,
   "metadata": {},
   "outputs": [
    {
     "data": {
      "text/plain": [
       "True"
      ]
     },
     "execution_count": 11,
     "metadata": {},
     "output_type": "execute_result"
    }
   ],
   "source": [
    "gumball = img[350:650,750:1050]\n",
    "cv2.imwrite(\"R.png\",gumball)\n",
    "#NOTE - görüntü istenilen yola kaydedilir."
   ]
  }
 ],
 "metadata": {
  "kernelspec": {
   "display_name": "Python 3",
   "language": "python",
   "name": "python3"
  },
  "language_info": {
   "codemirror_mode": {
    "name": "ipython",
    "version": 3
   },
   "file_extension": ".py",
   "mimetype": "text/x-python",
   "name": "python",
   "nbconvert_exporter": "python",
   "pygments_lexer": "ipython3",
   "version": "3.9.13"
  },
  "orig_nbformat": 4
 },
 "nbformat": 4,
 "nbformat_minor": 2
}
